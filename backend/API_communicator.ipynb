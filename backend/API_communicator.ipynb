{
 "cells": [
  {
   "cell_type": "code",
   "execution_count": 16,
   "metadata": {},
   "outputs": [
    {
     "name": "stdout",
     "output_type": "stream",
     "text": [
      "{\n",
      "  \"_thoughts\": \"The purpose of the program is to print 'Hello World' to the console. I will use basic C++ syntax, specifically the iostream library for console output. There are no specific conditions provided that I need to meet.\",\n",
      "  \"reflection_code\": \"The program will utilize the iostream library which is standard for input and output operations in C++. I'm confident this will work as expected.\",\n",
      "  \"answer\": \"\\\"#include <iostream>\\\\n\\\\n// Main function that serves as the entry point for the program\\\\nint main() {\\\\n    // Outputting 'Hello World' to the console\\\\n    std::cout << 'Hello World';\\\\n    return 0; // Indicates that the program ended successfully\\\\n}\\\"\"\n",
      "}\n"
     ]
    }
   ],
   "source": [
    "import requests, json\n",
    "\n",
    "url = \"http://localhost:8000/generate_script\"\n",
    "\n",
    "data = {\n",
    "    \"instructions\": \"Write a program that prints 'Hello World' to the console.\",\n",
    "    \"language\": \"C++\"\n",
    "}\n",
    "\n",
    "response = requests.post(url, json=data)\n",
    "print(response.json())\n",
    "\n"
   ]
  },
  {
   "cell_type": "code",
   "execution_count": 15,
   "metadata": {},
   "outputs": [
    {
     "name": "stderr",
     "output_type": "stream",
     "text": [
      "ERROR: Could not find a version that satisfies the requirement timezone (from versions: none)\n",
      "ERROR: No matching distribution found for timezone\n"
     ]
    }
   ],
   "source": [
    "!pip install timezone"
   ]
  },
  {
   "cell_type": "code",
   "execution_count": null,
   "metadata": {},
   "outputs": [
    {
     "data": {
      "text/plain": [
       "datetime.datetime(2024, 12, 10, 17, 42, 4, 95667)"
      ]
     },
     "execution_count": 18,
     "metadata": {},
     "output_type": "execute_result"
    },
    {
     "ename": "",
     "evalue": "",
     "output_type": "error",
     "traceback": [
      "\u001b[1;31mThe Kernel crashed while executing code in the current cell or a previous cell. \n",
      "\u001b[1;31mPlease review the code in the cell(s) to identify a possible cause of the failure. \n",
      "\u001b[1;31mClick <a href='https://aka.ms/vscodeJupyterKernelCrash'>here</a> for more info. \n",
      "\u001b[1;31mView Jupyter <a href='command:jupyter.viewOutput'>log</a> for further details."
     ]
    }
   ],
   "source": [
    "import datetime\n",
    "datetime.datetime.now()\n"
   ]
  }
 ],
 "metadata": {
  "kernelspec": {
   "display_name": "Python 3",
   "language": "python",
   "name": "python3"
  },
  "language_info": {
   "codemirror_mode": {
    "name": "ipython",
    "version": 3
   },
   "file_extension": ".py",
   "mimetype": "text/x-python",
   "name": "python",
   "nbconvert_exporter": "python",
   "pygments_lexer": "ipython3",
   "version": "3.12.6"
  }
 },
 "nbformat": 4,
 "nbformat_minor": 2
}
