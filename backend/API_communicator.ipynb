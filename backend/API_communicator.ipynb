{
 "cells": [
  {
   "cell_type": "markdown",
   "metadata": {},
   "source": [
    "### GET USERS\n",
    "Method for calling all users"
   ]
  },
  {
   "cell_type": "code",
   "execution_count": null,
   "metadata": {},
   "outputs": [
    {
     "name": "stdout",
     "output_type": "stream",
     "text": [
      "[{'email': 'string', 'user_id': 1, 'last_active': '2024-12-09T17:28:35.216157+01:00', 'username': 'string'}, {'email': 'dupa@endpoint.pl', 'user_id': 2, 'last_active': '2024-12-10T20:16:49.174146+01:00', 'username': 'papieżak'}]\n"
     ]
    }
   ],
   "source": [
    "import requests, json\n",
    "\n",
    "url = \"http://localhost:8000/users\"\n",
    "\n",
    "data = {\n",
    "    \"skip\": 0,\n",
    "    \"limit\": 100\n",
    "}\n",
    "response = requests.get(url, json=data)\n",
    "print(response.json())\n",
    "\n"
   ]
  },
  {
   "cell_type": "markdown",
   "metadata": {},
   "source": [
    "### GET USER BY ID\n",
    "Method for calling specific user by ID"
   ]
  },
  {
   "cell_type": "code",
   "execution_count": 2,
   "metadata": {},
   "outputs": [
    {
     "name": "stdout",
     "output_type": "stream",
     "text": [
      "{'email': 'dupa@endpoint.pl', 'user_id': 2, 'last_active': '2024-12-10T20:16:49.174146+01:00', 'username': 'papieżak'}\n"
     ]
    }
   ],
   "source": [
    "import requests, json\n",
    "\n",
    "user_id = \"2\"\n",
    "url = f\"http://localhost:8000/users/{user_id}\"\n",
    "\n",
    "response = requests.get(url)\n",
    "print(response.json())"
   ]
  },
  {
   "cell_type": "markdown",
   "metadata": {},
   "source": [
    "### CREATE NEW USER \n",
    "Method for creating new user (need to add email veryfication)"
   ]
  },
  {
   "cell_type": "code",
   "execution_count": 3,
   "metadata": {},
   "outputs": [
    {
     "name": "stdout",
     "output_type": "stream",
     "text": [
      "{'email': 'ag.biesiekierska@gmail.com', 'user_id': 3, 'last_active': '2024-12-23T21:03:56.227303+01:00', 'username': 'Agata'}\n"
     ]
    }
   ],
   "source": [
    "import requests, json\n",
    "\n",
    "url = \"http://localhost:8000/users\"\n",
    "\n",
    "data = {\n",
    "    \"username\": \"Agata\",\n",
    "    \"email\": \"ag.biesiekierska@gmail.com\"\n",
    "}\n",
    "\n",
    "response = requests.post(url, json=data)\n",
    "print(response.json())"
   ]
  },
  {
   "cell_type": "markdown",
   "metadata": {},
   "source": [
    "### DELETE USER\n",
    "Method for deleting user"
   ]
  },
  {
   "cell_type": "code",
   "execution_count": null,
   "metadata": {},
   "outputs": [
    {
     "name": "stdout",
     "output_type": "stream",
     "text": [
      "{'detail': 'Method Not Allowed'}\n"
     ]
    }
   ],
   "source": [
    "### Output status code 500 internal server error - to work with\n",
    "import requests, json\n",
    "\n",
    "user_id = \"1\"\n",
    "url = f\"http://localhost:8000/users/{user_id}\"\n",
    "\n",
    "response = requests.delete(url)\n",
    "print(response.json())"
   ]
  },
  {
   "cell_type": "markdown",
   "metadata": {},
   "source": [
    "### Find conversation by ID"
   ]
  },
  {
   "cell_type": "code",
   "execution_count": 7,
   "metadata": {},
   "outputs": [
    {
     "name": "stdout",
     "output_type": "stream",
     "text": [
      "{'user_id': 2, 'model': 'gpt-4o-mini', 'ended_at': '2024-12-22T18:02:24.613299+01:00', 'started_at': '2024-12-22T18:02:24.613299+01:00', 'conversation_id': 9}\n"
     ]
    }
   ],
   "source": [
    "import requests, json\n",
    "\n",
    "conversation_id = \"9\"\n",
    "url = f\"http://localhost:8000/conversation/{conversation_id}\"\n",
    "\n",
    "response = requests.get(url)\n",
    "print(response.json())"
   ]
  },
  {
   "cell_type": "markdown",
   "metadata": {},
   "source": [
    "### Continue conversation\n",
    "For now asking simple questions, the are no context -- to add"
   ]
  },
  {
   "cell_type": "code",
   "execution_count": 36,
   "metadata": {},
   "outputs": [
    {
     "name": "stdout",
     "output_type": "stream",
     "text": [
      "{'conversation_id': 9, 'sender': 'model', 'content': '{\"_thinking\": \"The question is asking for a precise explanation of global warming. I have enough information to provide a clear definition.\", \"answer\": \"Global warming refers to the long-term increase in Earth\\'s average surface temperature due to human activities, primarily the release of greenhouse gases like carbon dioxide and methane, which trap heat in the atmosphere.\"}'}\n"
     ]
    }
   ],
   "source": [
    "import requests, json\n",
    "\n",
    "conversation_id = \"9\"\n",
    "message = \"Can you explain what is global warming? Try to be precise.\"\n",
    "\n",
    "url = f\"http://localhost:8000/conversation/{conversation_id}\"\n",
    "\n",
    "response = requests.post(url, json={\"conversation_id\": conversation_id, \"content\": message})\n",
    "print(response.json())"
   ]
  },
  {
   "cell_type": "code",
   "execution_count": 37,
   "metadata": {},
   "outputs": [
    {
     "data": {
      "text/plain": [
       "{'conversation_id': 9,\n",
       " 'sender': 'model',\n",
       " 'content': '{\"_thinking\": \"The question is asking for a precise explanation of global warming. I have enough information to provide a clear definition.\", \"answer\": \"Global warming refers to the long-term increase in Earth\\'s average surface temperature due to human activities, primarily the release of greenhouse gases like carbon dioxide and methane, which trap heat in the atmosphere.\"}'}"
      ]
     },
     "execution_count": 37,
     "metadata": {},
     "output_type": "execute_result"
    }
   ],
   "source": [
    "response_json = json.loads(response.text)\n",
    "response_json"
   ]
  },
  {
   "cell_type": "code",
   "execution_count": 41,
   "metadata": {},
   "outputs": [
    {
     "data": {
      "text/plain": [
       "\"Global warming refers to the long-term increase in Earth's average surface temperature due to human activities, primarily the release of greenhouse gases like carbon dioxide and methane, which trap heat in the atmosphere.\""
      ]
     },
     "execution_count": 41,
     "metadata": {},
     "output_type": "execute_result"
    }
   ],
   "source": [
    "response_LLM = json.loads(response_json['content'])\n",
    "response_LLM['answer']"
   ]
  },
  {
   "cell_type": "code",
   "execution_count": null,
   "metadata": {},
   "outputs": [],
   "source": []
  }
 ],
 "metadata": {
  "kernelspec": {
   "display_name": "Python 3",
   "language": "python",
   "name": "python3"
  },
  "language_info": {
   "codemirror_mode": {
    "name": "ipython",
    "version": 3
   },
   "file_extension": ".py",
   "mimetype": "text/x-python",
   "name": "python",
   "nbconvert_exporter": "python",
   "pygments_lexer": "ipython3",
   "version": "3.12.6"
  }
 },
 "nbformat": 4,
 "nbformat_minor": 2
}
